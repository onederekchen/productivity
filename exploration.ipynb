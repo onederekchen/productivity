{
 "cells": [
  {
   "cell_type": "markdown",
   "metadata": {},
   "source": [
    "# Project scope\n",
    "\n",
    "Create a classifier that predicts how my day was based on inputs.\n",
    "\n",
    "Simplest possible pipeline just uses the productive and unproductive hours. \n",
    "\n",
    "Assumptions: the survey methodology was consistent throughout (which it mostly was). So I'm looking to predict how my day will be based on what I do during the day. It doesn't predict what I do during my day (I guess we could do that too, but it would be wildly inaccurate without a pretty insane number of features). \n",
    "\n",
    "The hours are a number from one through 8 (I was inconsistent with that, sometimes I would write higher numbers but really it should cap at 8). So there's a preprocessing step there.\n",
    "\n",
    "Note this is a pretty small amount of data."
   ]
  },
  {
   "cell_type": "code",
   "execution_count": 1,
   "metadata": {},
   "outputs": [],
   "source": [
    "# import libraries\n",
    "import pandas as pd\n",
    "from sklearn.model_selection import train_test_split\n",
    "import numpy as np\n",
    "import matplotlib.pyplot as plt\n",
    "import seaborn as sns\n",
    "\n",
    "from sklearn.preprocessing import LabelEncoder\n",
    "\n",
    "plt.style.use('ggplot')"
   ]
  },
  {
   "cell_type": "markdown",
   "metadata": {},
   "source": [
    "# Get data\n",
    "\n",
    "The data is from Sheets - I can even do my cleaning there if I want. That's probably better for the actual correction of individual pieces of data. But if there is actual preprocessing that needs to be done, it should be done in Python.\n",
    "\n",
    "I'm doing some preprocessing here, but this should probably be done in a separate.py file before the train/test split here.\n",
    "\n",
    "Irrelevant features just shouldn't be here, either because they're personal notes or used in dashboard calculation. Might be better to just make a download sheet in the dashboard."
   ]
  },
  {
   "cell_type": "code",
   "execution_count": 2,
   "metadata": {},
   "outputs": [],
   "source": [
    "path = \"base data (dnc)/Daily Recap (Responses) - RAW form responses.csv\"\n",
    "raw_target = 'How would you rate your overall satisfaction for the day?'\n",
    "\n",
    "df = pd.read_csv(path).dropna(subset=[raw_target])  # drop missing target values\n",
    "\n",
    "# ordinally encode target\n",
    "target_map = {\"Terrible day\": 0, \"Not great day\": 1, \"Okay day\": 2, \"Good day\": 3, \"Incredible day\": 4}\n",
    "df['target'] = df[raw_target].replace(target_map)\n",
    "target = 'target'\n",
    "\n",
    "# numerical features should be limited at 8 for consistency\n",
    "hours_features = ['Productive Hours', 'Productive AI Hours', 'Unproductive Hours']\n",
    "for f in hours_features:\n",
    "    df[f] = df[f].apply(lambda x: x if x < 8 else 8)\n",
    "    \n",
    "# should probably have some column renaming as well...\n",
    "\n",
    "# remove irrelevant features\n",
    "irrelevant_features = ['Last 7 days?', 'Last 30 days?', 'Was today a free day?', 'Notes', 'Weekday']\n",
    "df.drop(irrelevant_features, axis=1, inplace=True)\n",
    "\n",
    "# train/test split\n",
    "train, test, y, y_test = train_test_split(df.drop([target, raw_target], axis=1), df[target], random_state = 0)\n",
    "# train.columns"
   ]
  },
  {
   "cell_type": "markdown",
   "metadata": {},
   "source": [
    "# Explore data\n",
    "\n",
    "- What's a baseline to beat? (random, most common value)\n",
    "- check out distribution of target (do i need to encode the target?)"
   ]
  },
  {
   "cell_type": "code",
   "execution_count": 3,
   "metadata": {},
   "outputs": [
    {
     "data": {
      "image/png": "[encoded data removed]",
      "text/plain": [
       "<Figure size 360x360 with 1 Axes>"
      ]
     },
     "metadata": {},
     "output_type": "display_data"
    }
   ],
   "source": [
    "sns.displot(df[target])\n",
    "\n",
    "plt.title('Distribution of target');"
   ]
  },
  {
   "cell_type": "code",
   "execution_count": 4,
   "metadata": {},
   "outputs": [
    {
     "data": {
      "text/plain": [
       "0.0"
      ]
     },
     "execution_count": 4,
     "metadata": {},
     "output_type": "execute_result"
    }
   ],
   "source": [
    "len(df.loc[(df[target] == \"Good day\")]) / len(df)"
   ]
  },
  {
   "cell_type": "markdown",
   "metadata": {},
   "source": [
    "So the prediction points to beat are 20% and 45%. \n",
    "\n",
    "Also, the data is imbalanced but it's probably not a great idea to over/undersample since the dataset is so small. I'll leave the balance as-is for now and come back if accuracy needs to be improved."
   ]
  },
  {
   "cell_type": "code",
   "execution_count": 5,
   "metadata": {},
   "outputs": [],
   "source": [
    "numerical_features = [f for f in train.columns if train[f].dtype in ['int64', 'float64']]\n",
    "categorical_features = [f for f in train.columns if train[f].nunique() < 10 and train[f].dtype == \"object\"]  # that means target is here instead..."
   ]
  },
  {
   "cell_type": "markdown",
   "metadata": {},
   "source": [
    "# Feature selection\n",
    "\n",
    "I can mostly decide the features because I know the dataset. "
   ]
  },
  {
   "cell_type": "code",
   "execution_count": 9,
   "metadata": {},
   "outputs": [],
   "source": [
    "features = numerical_features + categorical_features\n",
    "X = train[features].copy()\n",
    "X_test = test[features].copy()\n",
    "\n",
    "# df[features][df[features].isna().any(axis=1)]  # search for NaNs"
   ]
  },
  {
   "cell_type": "markdown",
   "metadata": {},
   "source": [
    "(!) Social media isn't as accurate as it could be because I wasn't counting strava for a while. So there's some manual data improvement to be doing."
   ]
  },
  {
   "cell_type": "markdown",
   "metadata": {},
   "source": [
    "I guess I could technically just test it on this test set for starters. That's pretty bad practice, but it should give me a rough idea of how predictive this is. "
   ]
  },
  {
   "cell_type": "code",
   "execution_count": 10,
   "metadata": {},
   "outputs": [],
   "source": [
    "# preprocess data\n",
    "\n",
    "from sklearn.compose import ColumnTransformer\n",
    "from sklearn.pipeline import Pipeline\n",
    "from sklearn.preprocessing import OneHotEncoder\n",
    "from sklearn.impute import SimpleImputer\n",
    "\n",
    "# Preprocessing for numerical data\n",
    "numerical_transformer = SimpleImputer(strategy='constant')\n",
    "\n",
    "# Preprocessing for categorical data\n",
    "categorical_transformer = Pipeline(steps=[\n",
    "    ('imputer', SimpleImputer(strategy='most_frequent')),\n",
    "    ('onehot', OneHotEncoder(handle_unknown='ignore'))\n",
    "])\n",
    "\n",
    "# Bundle preprocessing for numerical and categorical data\n",
    "preprocessor = ColumnTransformer(\n",
    "    transformers=[\n",
    "        ('num', numerical_transformer, numerical_features),\n",
    "        ('cat', categorical_transformer, categorical_features)\n",
    "    ])\n"
   ]
  },
  {
   "cell_type": "markdown",
   "metadata": {},
   "source": [
    "I don't have any numericals or categoricals to impute, but it's probably fine to leave that in just in case. "
   ]
  },
  {
   "cell_type": "code",
   "execution_count": 11,
   "metadata": {},
   "outputs": [],
   "source": [
    "from sklearn.ensemble import RandomForestClassifier\n",
    "\n",
    "model = RandomForestClassifier(n_estimators=100, random_state=0)  # very basic model (?) plot change in performance vs training time?\n",
    "\n",
    "# Bundle preprocessing and modeling code in a pipeline\n",
    "clf = Pipeline(steps=[('preprocessor', preprocessor),\n",
    "                              ('model', model)\n",
    "                             ])"
   ]
  },
  {
   "cell_type": "code",
   "execution_count": 12,
   "metadata": {},
   "outputs": [
    {
     "name": "stdout",
     "output_type": "stream",
     "text": [
      "Accuracy scores (in %):\n",
      " [37.5        43.75       52.08333333 43.75       39.58333333]\n",
      "Average accuracy score (across experiments):\n",
      "43.33333333333334\n"
     ]
    }
   ],
   "source": [
    "from sklearn.model_selection import cross_val_score\n",
    "\n",
    "# Multiply by -1 since sklearn calculates *negative* MAE\n",
    "scores = cross_val_score(clf, X, y, cv=5, scoring='accuracy')\n",
    "\n",
    "print(\"Accuracy scores (in %):\\n\", scores*100)\n",
    "print(\"Average accuracy score (across experiments):\")\n",
    "print(scores.mean()*100)"
   ]
  },
  {
   "cell_type": "markdown",
   "metadata": {},
   "source": [
    "Wow, that's kind of low. But not that surprising give that I just gave it a bunch of numbers. \n",
    "\n",
    "(?) are there too many folds? train performance is bad but test is good..."
   ]
  },
  {
   "cell_type": "code",
   "execution_count": 13,
   "metadata": {},
   "outputs": [
    {
     "data": {
      "text/plain": [
       "0.5802469135802469"
      ]
     },
     "execution_count": 13,
     "metadata": {},
     "output_type": "execute_result"
    }
   ],
   "source": [
    "clf.fit(X, y)\n",
    "clf.score(X_test, y_test)"
   ]
  },
  {
   "cell_type": "code",
   "execution_count": 14,
   "metadata": {},
   "outputs": [
    {
     "name": "stdout",
     "output_type": "stream",
     "text": [
      "Pipeline(steps=[('preprocessor',\n",
      "                 ColumnTransformer(transformers=[('num',\n",
      "                                                  SimpleImputer(strategy='constant'),\n",
      "                                                  ['Productive Hours',\n",
      "                                                   'Productive AI Hours',\n",
      "                                                   'Unproductive Hours']),\n",
      "                                                 ('cat',\n",
      "                                                  Pipeline(steps=[('imputer',\n",
      "                                                                   SimpleImputer(strategy='most_frequent')),\n",
      "                                                                  ('onehot',\n",
      "                                                                   OneHotEncoder(handle_unknown='ignore'))]),\n",
      "                                                  ['Do you want to take this '\n",
      "                                                   'form today?',\n",
      "                                                   'Did you exercise today?',\n",
      "                                                   'Did you post on social '\n",
      "                                                   'media today?',\n",
      "                                                   'Was your sleep schedule '\n",
      "                                                   'healthy today?',\n",
      "                                                   'Was your relationship with '\n",
      "                                                   'technology was healthy '\n",
      "                                                   'today?',\n",
      "                                                   'Did you spend time with '\n",
      "                                                   'someone you wanted to '\n",
      "                                                   'today?'])])),\n",
      "                ('model', RandomForestClassifier(random_state=0))])\n",
      "['Do you want to take this form today?_No'\n",
      " 'Do you want to take this form today?_Yes' 'Did you exercise today?_No'\n",
      " 'Did you exercise today?_Yes' 'Did you post on social media today?_No'\n",
      " 'Did you post on social media today?_Yes'\n",
      " 'Was your sleep schedule healthy today?_No'\n",
      " 'Was your sleep schedule healthy today?_Yes'\n",
      " 'Was your relationship with technology was healthy today?_No'\n",
      " 'Was your relationship with technology was healthy today?_Yes'\n",
      " 'Did you spend time with someone you wanted to today?_No'\n",
      " 'Did you spend time with someone you wanted to today?_Yes']\n"
     ]
    }
   ],
   "source": [
    "print(clf)\n",
    "print(clf.named_steps['preprocessor'].transformers_[1][1].named_steps['onehot'].get_feature_names(categorical_features))"
   ]
  },
  {
   "cell_type": "code",
   "execution_count": 17,
   "metadata": {},
   "outputs": [
    {
     "data": {
      "text/plain": [
       "['Incredible day']"
      ]
     },
     "execution_count": 17,
     "metadata": {},
     "output_type": "execute_result"
    }
   ],
   "source": [
    "# test_predictions\n",
    "\n",
    "def getKey(dct,value):  # works for unique values; might be better to reverse dict instead\n",
    "     return [key for key in dct if (dct[key] == value)]\n",
    "    \n",
    "getKey(target_map, model.predict([[\n",
    "    8, 5, 2,  # prod, ai, unprod\n",
    "    0, 1,  # take form n/y\n",
    "    0, 1,  # exercise n/y\n",
    "    0, 1,  # social n/y\n",
    "    0, 1,  # sleep n/y\n",
    "    0, 1,  # tech n/y\n",
    "    1, 0,  # friends n/y\n",
    "]]))  # now i need a ton of features to predict..."
   ]
  },
  {
   "cell_type": "markdown",
   "metadata": {},
   "source": [
    "this is how my actual next day went and it predicted it correctly.\n",
    "\n",
    "I think I just want to be better than picking the same guess every time. Random would be 20% expected accuracy, I need to do exploratory analysis to determine what the most common value is (e.g. if I just guessed \"okay day\" every day). I hope it's under 50%.\n",
    "\n"
   ]
  },
  {
   "cell_type": "markdown",
   "metadata": {},
   "source": [
    "Limiting the features to 8 decreases predictive power, which is expected. But it's more consistent with the definition of the data."
   ]
  }
 ],
 "metadata": {
  "kernelspec": {
   "display_name": "Python 3",
   "language": "python",
   "name": "python3"
  },
  "language_info": {
   "codemirror_mode": {
    "name": "ipython",
    "version": 3
   },
   "file_extension": ".py",
   "mimetype": "text/x-python",
   "name": "python",
   "nbconvert_exporter": "python",
   "pygments_lexer": "ipython3",
   "version": "3.8.3"
  }
 },
 "nbformat": 4,
 "nbformat_minor": 4
}
