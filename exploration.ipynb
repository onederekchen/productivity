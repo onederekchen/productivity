{
 "cells": [
  {
   "cell_type": "markdown",
   "metadata": {},
   "source": [
    "# Project scope\n",
    "\n",
    "Create a classifier that predicts how my day was based on inputs.\n",
    "\n",
    "Simplest possible pipeline just uses the productive and unproductive hours. \n",
    "\n",
    "Assumptions: the survey methodology was consistent throughout (which it mostly was). So I'm looking to predict how my day will be based on what I do during the day. It doesn't predict what I do during my day (I guess we could do that too, but it would be wildly inaccurate without a pretty insane number of features). \n",
    "\n",
    "The hours are a number from one through 8 (I was inconsistent with that, sometimes I would write higher numbers but really it should cap at 8). So there's a preprocessing step there.\n",
    "\n",
    "Note this is a pretty small amount of data."
   ]
  },
  {
   "cell_type": "code",
   "execution_count": 1,
   "metadata": {},
   "outputs": [],
   "source": [
    "# import libraries\n",
    "import pandas as pd\n",
    "from sklearn.model_selection import train_test_split\n",
    "import numpy as np\n",
    "import matplotlib.pyplot as plt\n",
    "import seaborn as sns\n",
    "\n",
    "from sklearn.preprocessing import LabelEncoder\n",
    "\n",
    "plt.style.use('ggplot')"
   ]
  },
  {
   "cell_type": "markdown",
   "metadata": {},
   "source": [
    "# Get data\n",
    "\n",
    "The data is from Sheets - I can even do my cleaning there if I want. That's probably better for the actual correction of individual pieces of data. But if there is actual preprocessing that needs to be done, it should be done in Python.\n",
    "\n",
    "The preprocessing step is just dropping NaNs - so if we had a month worth of new test data coming in in the same format, we would just drop any NaNs before running. "
   ]
  },
  {
   "cell_type": "code",
   "execution_count": 2,
   "metadata": {},
   "outputs": [
    {
     "data": {
      "text/plain": [
       "0      3\n",
       "1      3\n",
       "2      2\n",
       "3      3\n",
       "4      2\n",
       "      ..\n",
       "331    4\n",
       "332    1\n",
       "333    2\n",
       "334    3\n",
       "335    2\n",
       "Name: target, Length: 320, dtype: int64"
      ]
     },
     "execution_count": 2,
     "metadata": {},
     "output_type": "execute_result"
    }
   ],
   "source": [
    "path = \"base data (dnc)/Daily Recap (Responses) - RAW form responses.csv\"\n",
    "raw_target = 'How would you rate your overall satisfaction for the day?'\n",
    "\n",
    "df = pd.read_csv(path).dropna(subset=[raw_target])  # ensure no missing y values\n",
    "\n",
    "# pre-split preprocessing\n",
    "\n",
    "target_map = {\"Terrible day\": 0, \"Not great day\": 1, \"Okay day\": 2, \"Good day\": 3, \"Incredible day\": 4}\n",
    "df['target'] = df[raw_target].replace(target_map)\n",
    "target = 'target'\n",
    "\n",
    "\n",
    "train, test, y, y_test = train_test_split(df.drop(target, axis=1), df[target], random_state = 0)\n",
    "# train.columns\n",
    "df[target]"
   ]
  },
  {
   "cell_type": "code",
   "execution_count": 23,
   "metadata": {},
   "outputs": [
    {
     "name": "stdout",
     "output_type": "stream",
     "text": [
      "{'Terrible day': 0, 'Not great day': 1, 'Okay day': 2, 'Good day': 3, 'Incredible day': 4}\n"
     ]
    }
   ],
   "source": [
    "print(target_map)"
   ]
  },
  {
   "cell_type": "markdown",
   "metadata": {},
   "source": [
    "# Explore data\n",
    "\n",
    "- What's a baseline to beat? (random, most common value)\n",
    "- check out distribution of target (do i need to encode the target?)"
   ]
  },
  {
   "cell_type": "code",
   "execution_count": 3,
   "metadata": {},
   "outputs": [
    {
     "data": {
      "image/png": "[encoded data removed]",
      "text/plain": [
       "<Figure size 360x360 with 1 Axes>"
      ]
     },
     "metadata": {},
     "output_type": "display_data"
    }
   ],
   "source": [
    "sns.displot(df[target])\n",
    "\n",
    "plt.title('Distribution of target');"
   ]
  },
  {
   "cell_type": "code",
   "execution_count": 4,
   "metadata": {},
   "outputs": [
    {
     "data": {
      "text/plain": [
       "0.0"
      ]
     },
     "execution_count": 4,
     "metadata": {},
     "output_type": "execute_result"
    }
   ],
   "source": [
    "len(df.loc[(df[target] == \"Good day\")]) / len(df)"
   ]
  },
  {
   "cell_type": "markdown",
   "metadata": {},
   "source": [
    "So the prediction points to beat are 20% and 45%. "
   ]
  },
  {
   "cell_type": "markdown",
   "metadata": {},
   "source": [
    "# Feature selection"
   ]
  },
  {
   "cell_type": "code",
   "execution_count": 8,
   "metadata": {},
   "outputs": [],
   "source": [
    "features = ['Productive Hours', 'Productive AI Hours', 'Unproductive Hours']\n",
    "X = train[features].copy()\n",
    "X_test = test[features].copy()"
   ]
  },
  {
   "cell_type": "code",
   "execution_count": 10,
   "metadata": {},
   "outputs": [],
   "source": [
    "from sklearn.ensemble import RandomForestClassifier\n",
    "\n",
    "model = RandomForestClassifier(n_estimators=50, random_state=0)  # very basic model (?) plot change in performance vs training time?"
   ]
  },
  {
   "cell_type": "code",
   "execution_count": 11,
   "metadata": {},
   "outputs": [
    {
     "name": "stdout",
     "output_type": "stream",
     "text": [
      "Accuracy scores (in %):\n",
      " [45.83333333 58.33333333 52.08333333 39.58333333 41.66666667]\n",
      "Average accuracy score (across experiments):\n",
      "47.5\n"
     ]
    }
   ],
   "source": [
    "from sklearn.model_selection import cross_val_score\n",
    "\n",
    "# Multiply by -1 since sklearn calculates *negative* MAE\n",
    "scores = cross_val_score(model, X, y, cv=5, scoring='accuracy')\n",
    "\n",
    "print(\"Accuracy scores (in %):\\n\", scores*100)\n",
    "print(\"Average accuracy score (across experiments):\")\n",
    "print(scores.mean()*100)"
   ]
  },
  {
   "cell_type": "markdown",
   "metadata": {},
   "source": [
    "Wow, that's kind of low. But not that surprising give that I just gave it a bunch of numbers. Wait, does y need to be encoded?\n",
    "\n",
    "I guess let's get the scoring working and then we can see how much it improves it. "
   ]
  },
  {
   "cell_type": "code",
   "execution_count": 12,
   "metadata": {},
   "outputs": [
    {
     "data": {
      "text/plain": [
       "0.4625"
      ]
     },
     "execution_count": 12,
     "metadata": {},
     "output_type": "execute_result"
    }
   ],
   "source": [
    "model.fit(X, y)\n",
    "model.score(X_test, y_test)"
   ]
  },
  {
   "cell_type": "code",
   "execution_count": 29,
   "metadata": {},
   "outputs": [
    {
     "data": {
      "text/plain": [
       "['Good day']"
      ]
     },
     "execution_count": 29,
     "metadata": {},
     "output_type": "execute_result"
    }
   ],
   "source": [
    "# test_predictions\n",
    "\n",
    "def getKey(dct,value):  # works for unique values; might be better to reverse dict instead\n",
    "     return [key for key in dct if (dct[key] == value)]\n",
    "\n",
    "getKey(target_map, model.predict([[8, 5, 2]]))"
   ]
  },
  {
   "cell_type": "markdown",
   "metadata": {},
   "source": [
    "I think I just want to be better than picking the same guess every time. Random would be 20% expected accuracy, I need to do exploratory analysis to determine what the most common value is (e.g. if I just guessed \"okay day\" every day). I hope it's under 50%. Oh shit, is this data imbalanced?"
   ]
  }
 ],
 "metadata": {
  "kernelspec": {
   "display_name": "Python 3",
   "language": "python",
   "name": "python3"
  },
  "language_info": {
   "codemirror_mode": {
    "name": "ipython",
    "version": 3
   },
   "file_extension": ".py",
   "mimetype": "text/x-python",
   "name": "python",
   "nbconvert_exporter": "python",
   "pygments_lexer": "ipython3",
   "version": "3.8.3"
  }
 },
 "nbformat": 4,
 "nbformat_minor": 4
}
